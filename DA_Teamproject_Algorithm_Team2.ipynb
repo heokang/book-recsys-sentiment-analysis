{
 "cells": [
  {
   "cell_type": "code",
   "execution_count": 42,
   "metadata": {},
   "outputs": [],
   "source": [
    "import pandas as pd\n",
    "import numpy as np"
   ]
  },
  {
   "cell_type": "code",
   "execution_count": 43,
   "metadata": {},
   "outputs": [],
   "source": [
    "review_data = pd.read_csv(\"all_review_preprocessing.csv\")"
   ]
  },
  {
   "cell_type": "code",
   "execution_count": 81,
   "metadata": {},
   "outputs": [
    {
     "data": {
      "text/html": [
       "<div>\n",
       "<style scoped>\n",
       "    .dataframe tbody tr th:only-of-type {\n",
       "        vertical-align: middle;\n",
       "    }\n",
       "\n",
       "    .dataframe tbody tr th {\n",
       "        vertical-align: top;\n",
       "    }\n",
       "\n",
       "    .dataframe thead th {\n",
       "        text-align: right;\n",
       "    }\n",
       "</style>\n",
       "<table border=\"1\" class=\"dataframe\">\n",
       "  <thead>\n",
       "    <tr style=\"text-align: right;\">\n",
       "      <th></th>\n",
       "      <th>Nickname</th>\n",
       "      <th>Review_Text</th>\n",
       "      <th>Book_Name</th>\n",
       "      <th>Label</th>\n",
       "      <th>Series_Name</th>\n",
       "    </tr>\n",
       "  </thead>\n",
       "  <tbody>\n",
       "    <tr>\n",
       "      <th>15563</th>\n",
       "      <td>꿈이현실</td>\n",
       "      <td>주린이들이 꼭 읽어봐야 할 책 이네요. 오랜만에 주식관련 책을 재미있게 잘 읽었습니다.</td>\n",
       "      <td>세력주 투자 기술</td>\n",
       "      <td>1</td>\n",
       "      <td>세력주 투자 기술</td>\n",
       "    </tr>\n",
       "    <tr>\n",
       "      <th>15564</th>\n",
       "      <td>지미오양</td>\n",
       "      <td>주식 잘 모르겠으면 이것부터 읽어보시라</td>\n",
       "      <td>세력주 투자 기술</td>\n",
       "      <td>1</td>\n",
       "      <td>세력주 투자 기술</td>\n",
       "    </tr>\n",
       "    <tr>\n",
       "      <th>15565</th>\n",
       "      <td>플러스비</td>\n",
       "      <td>장난이 너무 심한거 아니요?</td>\n",
       "      <td>세력주 투자 기술</td>\n",
       "      <td>0</td>\n",
       "      <td>세력주 투자 기술</td>\n",
       "    </tr>\n",
       "    <tr>\n",
       "      <th>15566</th>\n",
       "      <td>ADHD 직장인의 일생다반사</td>\n",
       "      <td>투자에 공부에 대한 마음에 다시끔 불을 지펴준 책</td>\n",
       "      <td>세력주 투자 기술</td>\n",
       "      <td>1</td>\n",
       "      <td>세력주 투자 기술</td>\n",
       "    </tr>\n",
       "    <tr>\n",
       "      <th>15567</th>\n",
       "      <td>kosmes2112029</td>\n",
       "      <td>도움이 많이되는 실전 노하우를 알려주는 좋은책</td>\n",
       "      <td>세력주 투자 기술</td>\n",
       "      <td>1</td>\n",
       "      <td>세력주 투자 기술</td>\n",
       "    </tr>\n",
       "  </tbody>\n",
       "</table>\n",
       "</div>"
      ],
      "text/plain": [
       "              Nickname                                       Review_Text  \\\n",
       "15563             꿈이현실  주린이들이 꼭 읽어봐야 할 책 이네요. 오랜만에 주식관련 책을 재미있게 잘 읽었습니다.   \n",
       "15564             지미오양                             주식 잘 모르겠으면 이것부터 읽어보시라   \n",
       "15565            플러스비                                    장난이 너무 심한거 아니요?   \n",
       "15566  ADHD 직장인의 일생다반사                       투자에 공부에 대한 마음에 다시끔 불을 지펴준 책   \n",
       "15567    kosmes2112029                         도움이 많이되는 실전 노하우를 알려주는 좋은책   \n",
       "\n",
       "       Book_Name  Label Series_Name  \n",
       "15563  세력주 투자 기술      1   세력주 투자 기술  \n",
       "15564  세력주 투자 기술      1   세력주 투자 기술  \n",
       "15565  세력주 투자 기술      0   세력주 투자 기술  \n",
       "15566  세력주 투자 기술      1   세력주 투자 기술  \n",
       "15567  세력주 투자 기술      1   세력주 투자 기술  "
      ]
     },
     "execution_count": 81,
     "metadata": {},
     "output_type": "execute_result"
    }
   ],
   "source": [
    "review_data.tail()"
   ]
  },
  {
   "cell_type": "code",
   "execution_count": 85,
   "metadata": {},
   "outputs": [],
   "source": [
    "book_data = pd.read_csv(\"all_book_preprocessing.csv\")"
   ]
  },
  {
   "cell_type": "code",
   "execution_count": 86,
   "metadata": {},
   "outputs": [
    {
     "data": {
      "text/html": [
       "<div>\n",
       "<style scoped>\n",
       "    .dataframe tbody tr th:only-of-type {\n",
       "        vertical-align: middle;\n",
       "    }\n",
       "\n",
       "    .dataframe tbody tr th {\n",
       "        vertical-align: top;\n",
       "    }\n",
       "\n",
       "    .dataframe thead th {\n",
       "        text-align: right;\n",
       "    }\n",
       "</style>\n",
       "<table border=\"1\" class=\"dataframe\">\n",
       "  <thead>\n",
       "    <tr style=\"text-align: right;\">\n",
       "      <th></th>\n",
       "      <th>Book_Name</th>\n",
       "      <th>Book_Author</th>\n",
       "      <th>Book_Category</th>\n",
       "      <th>Completion_Percent</th>\n",
       "      <th>ReadTogether</th>\n",
       "      <th>ReviewCount</th>\n",
       "      <th>AudioBook</th>\n",
       "      <th>Series_Name</th>\n",
       "    </tr>\n",
       "  </thead>\n",
       "  <tbody>\n",
       "    <tr>\n",
       "      <th>8625</th>\n",
       "      <td>150세에도 뛸 거야! 2편</td>\n",
       "      <td>유왕규</td>\n",
       "      <td>과학</td>\n",
       "      <td>0.0</td>\n",
       "      <td>1</td>\n",
       "      <td>0</td>\n",
       "      <td>X</td>\n",
       "      <td>150세에도 뛸 거야!</td>\n",
       "    </tr>\n",
       "    <tr>\n",
       "      <th>8626</th>\n",
       "      <td>다음 생엔 돌이 되고 싶다.</td>\n",
       "      <td>강다희</td>\n",
       "      <td>에세이</td>\n",
       "      <td>0.0</td>\n",
       "      <td>3</td>\n",
       "      <td>0</td>\n",
       "      <td>X</td>\n",
       "      <td>다음 생엔 돌이</td>\n",
       "    </tr>\n",
       "    <tr>\n",
       "      <th>8627</th>\n",
       "      <td>배터리 다이제스트 TOP9</td>\n",
       "      <td>선우 준</td>\n",
       "      <td>과학</td>\n",
       "      <td>0.0</td>\n",
       "      <td>5</td>\n",
       "      <td>0</td>\n",
       "      <td>X</td>\n",
       "      <td>배터리 다이제스트 TOP9</td>\n",
       "    </tr>\n",
       "    <tr>\n",
       "      <th>8628</th>\n",
       "      <td>배터리 다이제스트 TOP10</td>\n",
       "      <td>선우 준</td>\n",
       "      <td>과학</td>\n",
       "      <td>0.0</td>\n",
       "      <td>5</td>\n",
       "      <td>0</td>\n",
       "      <td>X</td>\n",
       "      <td>배터리 다이제스트 TOP10</td>\n",
       "    </tr>\n",
       "    <tr>\n",
       "      <th>8629</th>\n",
       "      <td>나로 돌아가는 여행</td>\n",
       "      <td>곽나원</td>\n",
       "      <td>에세이</td>\n",
       "      <td>0.0</td>\n",
       "      <td>4</td>\n",
       "      <td>0</td>\n",
       "      <td>X</td>\n",
       "      <td>나로 돌아가는 여행</td>\n",
       "    </tr>\n",
       "  </tbody>\n",
       "</table>\n",
       "</div>"
      ],
      "text/plain": [
       "            Book_Name Book_Author Book_Category  Completion_Percent  \\\n",
       "8625  150세에도 뛸 거야! 2편         유왕규            과학                 0.0   \n",
       "8626  다음 생엔 돌이 되고 싶다.         강다희           에세이                 0.0   \n",
       "8627   배터리 다이제스트 TOP9        선우 준            과학                 0.0   \n",
       "8628  배터리 다이제스트 TOP10        선우 준            과학                 0.0   \n",
       "8629       나로 돌아가는 여행         곽나원           에세이                 0.0   \n",
       "\n",
       "      ReadTogether  ReviewCount AudioBook      Series_Name  \n",
       "8625             1            0         X     150세에도 뛸 거야!  \n",
       "8626             3            0         X         다음 생엔 돌이  \n",
       "8627             5            0         X   배터리 다이제스트 TOP9  \n",
       "8628             5            0         X  배터리 다이제스트 TOP10  \n",
       "8629             4            0         X       나로 돌아가는 여행  "
      ]
     },
     "execution_count": 86,
     "metadata": {},
     "output_type": "execute_result"
    }
   ],
   "source": [
    "book_data.tail()"
   ]
  },
  {
   "cell_type": "markdown",
   "metadata": {},
   "source": [
    "## Content-based"
   ]
  },
  {
   "cell_type": "code",
   "execution_count": 87,
   "metadata": {},
   "outputs": [
    {
     "data": {
      "text/plain": [
       "[('플로라', 0.4),\n",
       " ('평균의 종말', 0.4),\n",
       " ('초기업', 0.4),\n",
       " ('본심', 0.4),\n",
       " ('장내세균의 역습', 0.4),\n",
       " ('남자아이 대백과', 0.37),\n",
       " ('성차별주의는 전쟁을 불러온다', 0.37),\n",
       " ('안아주는 말들', 0.37),\n",
       " ('세계사를 바꾼  의 책', 0.37),\n",
       " ('홀로서기 심리학', 0.37)]"
      ]
     },
     "execution_count": 87,
     "metadata": {},
     "output_type": "execute_result"
    }
   ],
   "source": [
    "from sklearn.feature_extraction.text import CountVectorizer\n",
    "from sklearn.metrics.pairwise import cosine_similarity\n",
    "\n",
    "vectorizer = CountVectorizer()\n",
    "\n",
    "book_features = book_data[['Book_Name', 'Book_Author', 'Book_Category']].astype(str).agg(' '.join, axis=1)\n",
    "count_matrix = vectorizer.fit_transform(book_features)\n",
    "\n",
    "cosine_sim = cosine_similarity(count_matrix)\n",
    "\n",
    "def get_recommendations_with_rounded_scores(book_name, cosine_sim=cosine_sim):\n",
    "    idx = book_data.index[book_data['Book_Name'] == book_name].tolist()\n",
    "    \n",
    "    if not idx:\n",
    "        return []\n",
    "\n",
    "    idx = idx[0]\n",
    "\n",
    "    sim_scores = list(enumerate(cosine_sim[idx]))\n",
    "\n",
    "    sim_scores = sorted(sim_scores, key=lambda x: x[1], reverse=True)\n",
    "\n",
    "    sim_scores = sim_scores[1:11]\n",
    "    book_indices_scores = [(book_data['Book_Name'].iloc[i[0]], round(i[1], 2)) for i in sim_scores]\n",
    "\n",
    "    return book_indices_scores\n",
    "\n",
    "selected_book_name = \"꿀벌과 천둥\"\n",
    "recommendations = get_recommendations_with_rounded_scores(selected_book_name)\n",
    "\n",
    "recommendations\n"
   ]
  },
  {
   "cell_type": "markdown",
   "metadata": {},
   "source": [
    "## SVD Collaborative Filtering Using Surprise Library"
   ]
  },
  {
   "cell_type": "code",
   "execution_count": 70,
   "metadata": {},
   "outputs": [],
   "source": [
    "from surprise import Reader, Dataset, SVD\n",
    "from surprise.model_selection import train_test_split\n",
    "import numpy as np\n",
    "from surprise.model_selection import cross_validate\n",
    "\n",
    "reader = Reader(rating_scale=(0, 1))\n",
    "data = Dataset.load_from_df(review_data[['Nickname', 'Book_Name', 'Label']], reader)\n",
    "\n",
    "trainset, testset = train_test_split(data, test_size=0.2, random_state=42)\n",
    "\n",
    "model = SVD()\n",
    "model.fit(trainset)\n",
    "\n",
    "predictions = model.test(testset)"
   ]
  },
  {
   "cell_type": "code",
   "execution_count": 71,
   "metadata": {},
   "outputs": [
    {
     "name": "stdout",
     "output_type": "stream",
     "text": [
      "Evaluating RMSE, MAE of algorithm SVD on 5 split(s).\n",
      "\n",
      "                  Fold 1  Fold 2  Fold 3  Fold 4  Fold 5  Mean    Std     \n",
      "RMSE (testset)    0.3198  0.3148  0.3172  0.3168  0.3129  0.3163  0.0023  \n",
      "MAE (testset)     0.1960  0.1914  0.1930  0.1934  0.1900  0.1928  0.0020  \n",
      "Fit time          0.24    0.23    0.23    0.24    0.23    0.23    0.01    \n",
      "Test time         0.03    0.03    0.03    0.03    0.03    0.03    0.00    \n"
     ]
    },
    {
     "data": {
      "text/plain": [
       "{'test_rmse': array([0.3198256 , 0.31475151, 0.31723189, 0.31683047, 0.31293821]),\n",
       " 'test_mae': array([0.1960279 , 0.19141342, 0.19300228, 0.19339393, 0.18999874]),\n",
       " 'fit_time': (0.2416689395904541,\n",
       "  0.2278900146484375,\n",
       "  0.23209285736083984,\n",
       "  0.24099302291870117,\n",
       "  0.2297201156616211),\n",
       " 'test_time': (0.025493144989013672,\n",
       "  0.025828838348388672,\n",
       "  0.02569413185119629,\n",
       "  0.03238987922668457,\n",
       "  0.02680206298828125)}"
      ]
     },
     "execution_count": 71,
     "metadata": {},
     "output_type": "execute_result"
    }
   ],
   "source": [
    "cross_validate(model, data, measures=['RMSE', 'MAE'], cv=5, verbose=True)"
   ]
  },
  {
   "cell_type": "code",
   "execution_count": 72,
   "metadata": {},
   "outputs": [
    {
     "name": "stdout",
     "output_type": "stream",
     "text": [
      "user: 무모한        item: 꿀벌과 천둥     r_ui = None   est = 0.95   {'was_impossible': False}\n"
     ]
    }
   ],
   "source": [
    "user = \"무모한\"  \n",
    "bname = \"꿀벌과 천둥\" # Changing the book name which user read.\n",
    "\n",
    "if user not in review_data['Nickname'].unique():\n",
    "    print(f\"'{user}' 사용자는 리뷰 데이터에 없습니다.\")\n",
    "elif bname not in review_data['Book_Name'].unique():\n",
    "    print(f\"'{bname}' 책은 리뷰 데이터에 없습니다.\")\n",
    "else:\n",
    "    pred = model.predict(user, bname, verbose=True)"
   ]
  },
  {
   "cell_type": "code",
   "execution_count": 73,
   "metadata": {},
   "outputs": [
    {
     "name": "stdout",
     "output_type": "stream",
     "text": [
      "Book 1: 남자는 어떻게 일어서는가, Pred Score: 1\n",
      "Book 2: 읽는 인간, 리터러시를 경험하라, Pred Score: 1\n",
      "Book 3: 역행자 : 확장판, Pred Score: 1\n",
      "Book 4: 날이 좋아요, 차를 마셔요, Pred Score: 1\n",
      "Book 5: 나의 이상하고 평범한 부동산 가족, Pred Score: 1\n",
      "Book 6: 엘리멘탈 그래픽노블(한글), Pred Score: 1\n",
      "Book 7: 나는 왜 자꾸 내 탓을 할까, Pred Score: 1\n",
      "Book 8: 기분의 디자인, Pred Score: 1\n",
      "Book 9: 이코노미 조선 509호 : 2023.09.20, Pred Score: 1\n",
      "Book 10: 신비 섬 제주 유산, Pred Score: 1\n"
     ]
    }
   ],
   "source": [
    "# The book which the user already read book\n",
    "read_books = review_data[review_data['Nickname'] == user]['Book_Name'].unique()\n",
    "\n",
    "# The book which the user does not read book\n",
    "not_read_books = [bname for bname in review_data['Book_Name'].unique() if bname not in read_books]\n",
    "\n",
    "predictions = [model.predict(user, bname) for bname in not_read_books]\n",
    "\n",
    "top_predictions = sorted(predictions, key=lambda x: x.est, reverse=True)[:10]\n",
    "\n",
    "for i, pred in enumerate(top_predictions, 1):\n",
    "    print(f\"Book {i}: {pred.iid}, Pred Score: {pred.est}\")\n"
   ]
  },
  {
   "cell_type": "code",
   "execution_count": 74,
   "metadata": {},
   "outputs": [
    {
     "name": "stdout",
     "output_type": "stream",
     "text": [
      "Book 3669: 적막한 폭발, Favor Count: 968\n",
      "Book 6086: 트러블 사전, Favor Count: 965\n",
      "Book 2861: 아레나옴므플러스 Arena Homme+ 2023년 11월호, Favor Count: 934\n",
      "Book 8163: 나는 정신장애 아들을 둔 아버지입니다, Favor Count: 929\n",
      "Book 7492: 쫓기지 않는 50대를 사는 법, Favor Count: 908\n",
      "Book 18: 66일 인문학 대화법, Favor Count: 904\n",
      "Book 1761: 김씨네과일, Favor Count: 897\n",
      "Book 2012: 이코노미 조선 509호 : 2023.09.20, Favor Count: 856\n",
      "Book 8155: 문장의 시대, 시대의 문장, Favor Count: 845\n",
      "Book 8137: 컬러는 나를 알고 있다, Favor Count: 827\n"
     ]
    }
   ],
   "source": [
    "high_pred_books = [pred.iid for pred in predictions if pred.est == 1]\n",
    "\n",
    "top_books_with_favor = book_data[book_data['Book_Name'].isin(high_pred_books)]\n",
    "top_books_with_favor = top_books_with_favor.sort_values(by='ReadTogether', ascending=False)\n",
    "\n",
    "top_books_with_favor = top_books_with_favor.head(10)\n",
    "\n",
    "for i, row in top_books_with_favor.iterrows():\n",
    "    print(f\"Book {i+1}: {row['Book_Name']}, Favor Count: {row['ReadTogether']}\")\n"
   ]
  },
  {
   "cell_type": "markdown",
   "metadata": {},
   "source": [
    "## KNN Surprise"
   ]
  },
  {
   "cell_type": "code",
   "execution_count": 77,
   "metadata": {},
   "outputs": [
    {
     "name": "stdout",
     "output_type": "stream",
     "text": [
      "Computing the msd similarity matrix...\n",
      "Done computing similarity matrix.\n",
      "RMSE: 0.3356\n",
      "MAE:  0.2072\n"
     ]
    }
   ],
   "source": [
    "from surprise import Dataset, Reader\n",
    "from surprise.model_selection import cross_validate\n",
    "from surprise import KNNBasic\n",
    "from surprise import accuracy\n",
    "\n",
    "reader = Reader(rating_scale=(0, 1))\n",
    "data = Dataset.load_from_df(review_data[['Nickname', 'Book_Name', 'Label']], reader)\n",
    "\n",
    "# Using KNNBasic\n",
    "algo = KNNBasic()\n",
    "\n",
    "algo.fit(trainset)\n",
    "\n",
    "predictions = algo.test(testset)\n",
    "\n",
    "rmse = accuracy.rmse(predictions)\n",
    "\n",
    "mae = accuracy.mae(predictions)"
   ]
  },
  {
   "cell_type": "code",
   "execution_count": 78,
   "metadata": {},
   "outputs": [
    {
     "name": "stdout",
     "output_type": "stream",
     "text": [
      "Computing the msd similarity matrix...\n",
      "Done computing similarity matrix.\n",
      "Computing the msd similarity matrix...\n",
      "Done computing similarity matrix.\n",
      "Computing the msd similarity matrix...\n",
      "Done computing similarity matrix.\n",
      "Computing the msd similarity matrix...\n",
      "Done computing similarity matrix.\n",
      "Computing the msd similarity matrix...\n",
      "Done computing similarity matrix.\n",
      "Evaluating RMSE, MAE of algorithm KNNBasic on 5 split(s).\n",
      "\n",
      "                  Fold 1  Fold 2  Fold 3  Fold 4  Fold 5  Mean    Std     \n",
      "RMSE (testset)    0.3283  0.3445  0.3362  0.3351  0.3395  0.3367  0.0053  \n",
      "MAE (testset)     0.2011  0.2096  0.2067  0.2068  0.2078  0.2064  0.0029  \n",
      "Fit time          0.55    0.66    0.55    0.50    0.49    0.55    0.06    \n",
      "Test time         0.18    0.16    0.17    0.17    0.16    0.17    0.01    \n"
     ]
    },
    {
     "data": {
      "text/plain": [
       "{'test_rmse': array([0.32831255, 0.34454528, 0.33623039, 0.33505279, 0.3394961 ]),\n",
       " 'test_mae': array([0.20106116, 0.20957581, 0.20669201, 0.20675004, 0.20777613]),\n",
       " 'fit_time': (0.5548522472381592,\n",
       "  0.6569430828094482,\n",
       "  0.5454328060150146,\n",
       "  0.497769832611084,\n",
       "  0.48821306228637695),\n",
       " 'test_time': (0.1753687858581543,\n",
       "  0.16428709030151367,\n",
       "  0.17379093170166016,\n",
       "  0.16584110260009766,\n",
       "  0.157944917678833)}"
      ]
     },
     "execution_count": 78,
     "metadata": {},
     "output_type": "execute_result"
    }
   ],
   "source": [
    "cross_validate(algo, data, measures=['RMSE', 'MAE'], cv=5, verbose=True)"
   ]
  },
  {
   "cell_type": "code",
   "execution_count": 84,
   "metadata": {},
   "outputs": [
    {
     "name": "stdout",
     "output_type": "stream",
     "text": [
      "추천된 책 목록: ['사라진 여자들', '꿀벌의 예언 1', '나는 미니멀 유목민 입니다', '상식이 결여된 카페', '내 몸의 설계자, 호르몬 이야기', '본심', \"'시'가 머물러 있는 그곳에 글자락이 메아리 치다\", '용의 만화경', '우리 MBTI가 같네요!', '우등생논술 2023년 7월호']\n"
     ]
    },
    {
     "name": "stderr",
     "output_type": "stream",
     "text": [
      "/Users/leegyumin/Library/Python/3.9/lib/python/site-packages/sklearn/base.py:464: UserWarning: X does not have valid feature names, but NearestNeighbors was fitted with feature names\n",
      "  warnings.warn(\n"
     ]
    }
   ],
   "source": [
    "from sklearn.neighbors import NearestNeighbors\n",
    "import numpy as np\n",
    "\n",
    "user_book_matrix = review_data.pivot_table(index='Nickname', columns='Book_Name', values='Label')\n",
    "\n",
    "user_book_matrix = user_book_matrix.fillna(0)\n",
    "\n",
    "model_knn = NearestNeighbors(metric='cosine', algorithm='brute', n_neighbors=5, n_jobs=-1)\n",
    "\n",
    "model_knn.fit(user_book_matrix)\n",
    "\n",
    "def get_user_recommendations(user_id, user_book_matrix, model_knn, n_recommendations=5):\n",
    "    user_idx = list(user_book_matrix.index).index(user_id)\n",
    "\n",
    "    user_data = user_book_matrix.iloc[user_idx].values.reshape(1, -1)\n",
    "\n",
    "    distances, indices = model_knn.kneighbors(user_data, n_neighbors=n_recommendations+1)\n",
    "\n",
    "    similar_users_book_ratings = user_book_matrix.iloc[indices.flatten()[1:]]\n",
    "    avg_ratings = similar_users_book_ratings.mean(axis=0)\n",
    "    \n",
    "    already_read = user_book_matrix.loc[user_id]\n",
    "    avg_ratings = avg_ratings[already_read.isna() | (already_read == 0)]\n",
    "\n",
    "    recommended_books = avg_ratings.sort_values(ascending=False).head(n_recommendations).index.tolist()\n",
    "\n",
    "    return recommended_books\n",
    "\n",
    "user_id = '무모한' \n",
    "recommended_books = get_user_recommendations(user_id, user_book_matrix, model_knn, n_recommendations=10)\n",
    "\n",
    "print(\"추천된 책 목록:\", recommended_books)\n"
   ]
  },
  {
   "cell_type": "markdown",
   "metadata": {},
   "source": [
    "## Combining Collaborative + Content-based"
   ]
  },
  {
   "cell_type": "code",
   "execution_count": 89,
   "metadata": {},
   "outputs": [],
   "source": [
    "from sklearn.feature_extraction.text import CountVectorizer\n",
    "from sklearn.metrics.pairwise import linear_kernel\n",
    "from surprise import Dataset, Reader, SVD\n",
    "\n",
    "# Content-Based Filtering for Books\n",
    "book_data['Content'] = book_data[['Book_Name', 'Book_Author', 'Book_Category']].apply(\n",
    "    lambda x: ' '.join(x.dropna().astype(str)), axis=1)\n",
    "count_vectorizer = CountVectorizer()\n",
    "book_content_matrix = count_vectorizer.fit_transform(book_data['Content'])\n",
    "book_content_similarity = linear_kernel(book_content_matrix, book_content_matrix)\n",
    "\n",
    "def get_book_content_based_recommendations(book_name, top_n):\n",
    "    index = book_data[book_data['Book_Name'] == book_name].index[0]\n",
    "    similarity_scores = book_content_similarity[index]\n",
    "    similar_indices = similarity_scores.argsort()[::-1][1:top_n + 1]\n",
    "    recommendations = book_data.iloc[similar_indices]['Book_Name'].values\n",
    "    return recommendations\n",
    "\n",
    "# Collaborative Filtering for Books\n",
    "reader = Reader(rating_scale=(review_data['Label'].min(), review_data['Label'].max()))\n",
    "data = Dataset.load_from_df(review_data[['Nickname', 'Book_Name', 'Label']], reader)\n",
    "algo = SVD()\n",
    "trainset2 = data.build_full_trainset()\n",
    "algo.fit(trainset2)\n",
    "\n",
    "def get_book_collaborative_filtering_recommendations(nickname, top_n):\n",
    "    testset = trainset.build_anti_testset()\n",
    "    testset = filter(lambda x: x[0] == nickname, testset)\n",
    "    predictions = algo.test(testset)\n",
    "    predictions.sort(key=lambda x: x.est, reverse=True)\n",
    "    recommendations = [review_data[review_data['Book_Name'] == prediction.iid]['Book_Name'].iloc[0] for prediction in predictions[:top_n]]\n",
    "    return recommendations\n",
    "\n",
    "# Hybrid Recommendation Function\n",
    "def get_book_hybrid_recommendations(nickname, book_name, top_n):\n",
    "    content_based_recommendations = get_book_content_based_recommendations(book_name, top_n)\n",
    "    collaborative_filtering_recommendations = get_book_collaborative_filtering_recommendations(nickname, top_n)\n",
    "    hybrid_recommendations = list(set(content_based_recommendations + collaborative_filtering_recommendations))\n",
    "    return hybrid_recommendations[:top_n]"
   ]
  },
  {
   "cell_type": "code",
   "execution_count": 90,
   "metadata": {},
   "outputs": [
    {
     "data": {
      "text/plain": [
       "['성차별주의는 전쟁을 불러온다기계가 언어를 이해하는 방법 (자연어 처리 기술 이해)',\n",
       " '처음 읽는 여성 철학사감정은 습관이다',\n",
       " '디즈니의 악당들 1 : 사악한 여왕제노사이드',\n",
       " '당신은 어떤 가면을 쓰고 있나요연남동 빙굴빙굴 빨래방',\n",
       " '플로라인생에서 8가지 일에만 집중하라',\n",
       " '틀을 깨는 사고력나는 왜 자꾸 내 탓을 할까',\n",
       " '홀로서기 심리학서평 쉽게 쓰는 법',\n",
       " '남자아이 대백과나는 왜 저 인간이 싫을까?',\n",
       " '잉글사이드의 릴라비스트로 쿠킹 앳 홈',\n",
       " '처음 읽는 클래식 음악의 역사나에겐 상처받을 이유가 없다']"
      ]
     },
     "execution_count": 90,
     "metadata": {},
     "output_type": "execute_result"
    }
   ],
   "source": [
    "nickname = '무모한'\n",
    "book_name = '꿀벌과 천둥' # Chaning book name which user read.\n",
    "top_n = 10\n",
    "recommendations = get_book_hybrid_recommendations(nickname, book_name, top_n)\n",
    "recommendations"
   ]
  },
  {
   "cell_type": "markdown",
   "metadata": {},
   "source": [
    "## Using Fastai Library wtih K-Fold"
   ]
  },
  {
   "cell_type": "markdown",
   "metadata": {},
   "source": [
    "#### Not using K-Fold"
   ]
  },
  {
   "cell_type": "code",
   "execution_count": 57,
   "metadata": {},
   "outputs": [
    {
     "data": {
      "text/html": [
       "\n",
       "<style>\n",
       "    /* Turns off some styling */\n",
       "    progress {\n",
       "        /* gets rid of default border in Firefox and Opera. */\n",
       "        border: none;\n",
       "        /* Needs to be in here for Safari polyfill so background images work as expected. */\n",
       "        background-size: auto;\n",
       "    }\n",
       "    progress:not([value]), progress:not([value])::-webkit-progress-bar {\n",
       "        background: repeating-linear-gradient(45deg, #7e7e7e, #7e7e7e 10px, #5c5c5c 10px, #5c5c5c 20px);\n",
       "    }\n",
       "    .progress-bar-interrupted, .progress-bar-interrupted::-webkit-progress-bar {\n",
       "        background: #F44336;\n",
       "    }\n",
       "</style>\n"
      ],
      "text/plain": [
       "<IPython.core.display.HTML object>"
      ]
     },
     "metadata": {},
     "output_type": "display_data"
    },
    {
     "data": {
      "text/html": [
       "<table border=\"1\" class=\"dataframe\">\n",
       "  <thead>\n",
       "    <tr style=\"text-align: left;\">\n",
       "      <th>epoch</th>\n",
       "      <th>train_loss</th>\n",
       "      <th>valid_loss</th>\n",
       "      <th>time</th>\n",
       "    </tr>\n",
       "  </thead>\n",
       "  <tbody>\n",
       "    <tr>\n",
       "      <td>0</td>\n",
       "      <td>0.211432</td>\n",
       "      <td>0.193101</td>\n",
       "      <td>00:02</td>\n",
       "    </tr>\n",
       "    <tr>\n",
       "      <td>1</td>\n",
       "      <td>0.095301</td>\n",
       "      <td>0.129399</td>\n",
       "      <td>00:01</td>\n",
       "    </tr>\n",
       "    <tr>\n",
       "      <td>2</td>\n",
       "      <td>0.045149</td>\n",
       "      <td>0.110691</td>\n",
       "      <td>00:02</td>\n",
       "    </tr>\n",
       "    <tr>\n",
       "      <td>3</td>\n",
       "      <td>0.020498</td>\n",
       "      <td>0.106174</td>\n",
       "      <td>00:02</td>\n",
       "    </tr>\n",
       "    <tr>\n",
       "      <td>4</td>\n",
       "      <td>0.011928</td>\n",
       "      <td>0.105702</td>\n",
       "      <td>00:01</td>\n",
       "    </tr>\n",
       "  </tbody>\n",
       "</table>"
      ],
      "text/plain": [
       "<IPython.core.display.HTML object>"
      ]
     },
     "metadata": {},
     "output_type": "display_data"
    },
    {
     "data": {
      "text/html": [
       "\n",
       "<style>\n",
       "    /* Turns off some styling */\n",
       "    progress {\n",
       "        /* gets rid of default border in Firefox and Opera. */\n",
       "        border: none;\n",
       "        /* Needs to be in here for Safari polyfill so background images work as expected. */\n",
       "        background-size: auto;\n",
       "    }\n",
       "    progress:not([value]), progress:not([value])::-webkit-progress-bar {\n",
       "        background: repeating-linear-gradient(45deg, #7e7e7e, #7e7e7e 10px, #5c5c5c 10px, #5c5c5c 20px);\n",
       "    }\n",
       "    .progress-bar-interrupted, .progress-bar-interrupted::-webkit-progress-bar {\n",
       "        background: #F44336;\n",
       "    }\n",
       "</style>\n"
      ],
      "text/plain": [
       "<IPython.core.display.HTML object>"
      ]
     },
     "metadata": {},
     "output_type": "display_data"
    },
    {
     "data": {
      "text/html": [],
      "text/plain": [
       "<IPython.core.display.HTML object>"
      ]
     },
     "metadata": {},
     "output_type": "display_data"
    },
    {
     "data": {
      "text/plain": [
       "('0.182', '0.342')"
      ]
     },
     "execution_count": 57,
     "metadata": {},
     "output_type": "execute_result"
    }
   ],
   "source": [
    "# pip install fastai\n",
    "\n",
    "# import pandas as pd\n",
    "# from sklearn.model_selection import train_test_split\n",
    "# from fastai.collab import CollabDataLoaders, collab_learner\n",
    "# from sklearn.metrics import mean_squared_error, mean_absolute_error\n",
    "# import numpy as np\n",
    "\n",
    "# data = review_data[['Nickname', 'Book_Name', 'Label']]\n",
    "\n",
    "# trainset_2, testset_2 = train_test_split(data, test_size=0.2, random_state=42)\n",
    "\n",
    "# dls = CollabDataLoaders.from_df(trainset_2, user_name='Nickname', item_name='Book_Name', rating_name='Label', bs=64)\n",
    "\n",
    "# learn = collab_learner(dls, n_factors=100, y_range=(0, 1), wd=0.1, use_nn=True, layers=[100])\n",
    "# # learn = collab_learner(dls, n_factors=100, y_range=(0, 1), wd=0.1, use_nn=True, layers=[100, 50, 10], ps=[0.5, 0.5, 0.1])\n",
    "\n",
    "# learn.fit_one_cycle(5, 1e-3)\n",
    "\n",
    "# test_dl = dls.test_dl(testset_2)\n",
    "# predictions, _ = learn.get_preds(dl=test_dl)\n",
    "\n",
    "# mae = mean_absolute_error(testset_2['Label'], predictions)\n",
    "# rmse = np.sqrt(mean_squared_error(testset_2['Label'], predictions))\n",
    "\n",
    "# mae = f\"{mae:.3f}\"\n",
    "# rmse = f\"{rmse:.3f}\"\n",
    "\n",
    "# mae, rmse"
   ]
  },
  {
   "cell_type": "markdown",
   "metadata": {},
   "source": [
    "#### Using K-Fold"
   ]
  },
  {
   "cell_type": "code",
   "execution_count": 80,
   "metadata": {},
   "outputs": [
    {
     "data": {
      "text/html": [
       "\n",
       "<style>\n",
       "    /* Turns off some styling */\n",
       "    progress {\n",
       "        /* gets rid of default border in Firefox and Opera. */\n",
       "        border: none;\n",
       "        /* Needs to be in here for Safari polyfill so background images work as expected. */\n",
       "        background-size: auto;\n",
       "    }\n",
       "    progress:not([value]), progress:not([value])::-webkit-progress-bar {\n",
       "        background: repeating-linear-gradient(45deg, #7e7e7e, #7e7e7e 10px, #5c5c5c 10px, #5c5c5c 20px);\n",
       "    }\n",
       "    .progress-bar-interrupted, .progress-bar-interrupted::-webkit-progress-bar {\n",
       "        background: #F44336;\n",
       "    }\n",
       "</style>\n"
      ],
      "text/plain": [
       "<IPython.core.display.HTML object>"
      ]
     },
     "metadata": {},
     "output_type": "display_data"
    },
    {
     "data": {
      "text/html": [
       "<table border=\"1\" class=\"dataframe\">\n",
       "  <thead>\n",
       "    <tr style=\"text-align: left;\">\n",
       "      <th>epoch</th>\n",
       "      <th>train_loss</th>\n",
       "      <th>valid_loss</th>\n",
       "      <th>time</th>\n",
       "    </tr>\n",
       "  </thead>\n",
       "  <tbody>\n",
       "    <tr>\n",
       "      <td>0</td>\n",
       "      <td>0.203344</td>\n",
       "      <td>0.178841</td>\n",
       "      <td>00:02</td>\n",
       "    </tr>\n",
       "    <tr>\n",
       "      <td>1</td>\n",
       "      <td>0.091981</td>\n",
       "      <td>0.126135</td>\n",
       "      <td>00:01</td>\n",
       "    </tr>\n",
       "    <tr>\n",
       "      <td>2</td>\n",
       "      <td>0.045918</td>\n",
       "      <td>0.116681</td>\n",
       "      <td>00:01</td>\n",
       "    </tr>\n",
       "    <tr>\n",
       "      <td>3</td>\n",
       "      <td>0.027264</td>\n",
       "      <td>0.112135</td>\n",
       "      <td>00:01</td>\n",
       "    </tr>\n",
       "    <tr>\n",
       "      <td>4</td>\n",
       "      <td>0.016302</td>\n",
       "      <td>0.112058</td>\n",
       "      <td>00:01</td>\n",
       "    </tr>\n",
       "  </tbody>\n",
       "</table>"
      ],
      "text/plain": [
       "<IPython.core.display.HTML object>"
      ]
     },
     "metadata": {},
     "output_type": "display_data"
    },
    {
     "data": {
      "text/html": [
       "\n",
       "<style>\n",
       "    /* Turns off some styling */\n",
       "    progress {\n",
       "        /* gets rid of default border in Firefox and Opera. */\n",
       "        border: none;\n",
       "        /* Needs to be in here for Safari polyfill so background images work as expected. */\n",
       "        background-size: auto;\n",
       "    }\n",
       "    progress:not([value]), progress:not([value])::-webkit-progress-bar {\n",
       "        background: repeating-linear-gradient(45deg, #7e7e7e, #7e7e7e 10px, #5c5c5c 10px, #5c5c5c 20px);\n",
       "    }\n",
       "    .progress-bar-interrupted, .progress-bar-interrupted::-webkit-progress-bar {\n",
       "        background: #F44336;\n",
       "    }\n",
       "</style>\n"
      ],
      "text/plain": [
       "<IPython.core.display.HTML object>"
      ]
     },
     "metadata": {},
     "output_type": "display_data"
    },
    {
     "data": {
      "text/html": [],
      "text/plain": [
       "<IPython.core.display.HTML object>"
      ]
     },
     "metadata": {},
     "output_type": "display_data"
    },
    {
     "data": {
      "text/html": [
       "\n",
       "<style>\n",
       "    /* Turns off some styling */\n",
       "    progress {\n",
       "        /* gets rid of default border in Firefox and Opera. */\n",
       "        border: none;\n",
       "        /* Needs to be in here for Safari polyfill so background images work as expected. */\n",
       "        background-size: auto;\n",
       "    }\n",
       "    progress:not([value]), progress:not([value])::-webkit-progress-bar {\n",
       "        background: repeating-linear-gradient(45deg, #7e7e7e, #7e7e7e 10px, #5c5c5c 10px, #5c5c5c 20px);\n",
       "    }\n",
       "    .progress-bar-interrupted, .progress-bar-interrupted::-webkit-progress-bar {\n",
       "        background: #F44336;\n",
       "    }\n",
       "</style>\n"
      ],
      "text/plain": [
       "<IPython.core.display.HTML object>"
      ]
     },
     "metadata": {},
     "output_type": "display_data"
    },
    {
     "data": {
      "text/html": [
       "<table border=\"1\" class=\"dataframe\">\n",
       "  <thead>\n",
       "    <tr style=\"text-align: left;\">\n",
       "      <th>epoch</th>\n",
       "      <th>train_loss</th>\n",
       "      <th>valid_loss</th>\n",
       "      <th>time</th>\n",
       "    </tr>\n",
       "  </thead>\n",
       "  <tbody>\n",
       "    <tr>\n",
       "      <td>0</td>\n",
       "      <td>0.220539</td>\n",
       "      <td>0.202265</td>\n",
       "      <td>00:01</td>\n",
       "    </tr>\n",
       "    <tr>\n",
       "      <td>1</td>\n",
       "      <td>0.092605</td>\n",
       "      <td>0.119465</td>\n",
       "      <td>00:01</td>\n",
       "    </tr>\n",
       "    <tr>\n",
       "      <td>2</td>\n",
       "      <td>0.042931</td>\n",
       "      <td>0.106890</td>\n",
       "      <td>00:01</td>\n",
       "    </tr>\n",
       "    <tr>\n",
       "      <td>3</td>\n",
       "      <td>0.021425</td>\n",
       "      <td>0.101691</td>\n",
       "      <td>00:01</td>\n",
       "    </tr>\n",
       "    <tr>\n",
       "      <td>4</td>\n",
       "      <td>0.009825</td>\n",
       "      <td>0.101432</td>\n",
       "      <td>00:01</td>\n",
       "    </tr>\n",
       "  </tbody>\n",
       "</table>"
      ],
      "text/plain": [
       "<IPython.core.display.HTML object>"
      ]
     },
     "metadata": {},
     "output_type": "display_data"
    },
    {
     "data": {
      "text/html": [
       "\n",
       "<style>\n",
       "    /* Turns off some styling */\n",
       "    progress {\n",
       "        /* gets rid of default border in Firefox and Opera. */\n",
       "        border: none;\n",
       "        /* Needs to be in here for Safari polyfill so background images work as expected. */\n",
       "        background-size: auto;\n",
       "    }\n",
       "    progress:not([value]), progress:not([value])::-webkit-progress-bar {\n",
       "        background: repeating-linear-gradient(45deg, #7e7e7e, #7e7e7e 10px, #5c5c5c 10px, #5c5c5c 20px);\n",
       "    }\n",
       "    .progress-bar-interrupted, .progress-bar-interrupted::-webkit-progress-bar {\n",
       "        background: #F44336;\n",
       "    }\n",
       "</style>\n"
      ],
      "text/plain": [
       "<IPython.core.display.HTML object>"
      ]
     },
     "metadata": {},
     "output_type": "display_data"
    },
    {
     "data": {
      "text/html": [],
      "text/plain": [
       "<IPython.core.display.HTML object>"
      ]
     },
     "metadata": {},
     "output_type": "display_data"
    },
    {
     "data": {
      "text/html": [
       "\n",
       "<style>\n",
       "    /* Turns off some styling */\n",
       "    progress {\n",
       "        /* gets rid of default border in Firefox and Opera. */\n",
       "        border: none;\n",
       "        /* Needs to be in here for Safari polyfill so background images work as expected. */\n",
       "        background-size: auto;\n",
       "    }\n",
       "    progress:not([value]), progress:not([value])::-webkit-progress-bar {\n",
       "        background: repeating-linear-gradient(45deg, #7e7e7e, #7e7e7e 10px, #5c5c5c 10px, #5c5c5c 20px);\n",
       "    }\n",
       "    .progress-bar-interrupted, .progress-bar-interrupted::-webkit-progress-bar {\n",
       "        background: #F44336;\n",
       "    }\n",
       "</style>\n"
      ],
      "text/plain": [
       "<IPython.core.display.HTML object>"
      ]
     },
     "metadata": {},
     "output_type": "display_data"
    },
    {
     "data": {
      "text/html": [
       "<table border=\"1\" class=\"dataframe\">\n",
       "  <thead>\n",
       "    <tr style=\"text-align: left;\">\n",
       "      <th>epoch</th>\n",
       "      <th>train_loss</th>\n",
       "      <th>valid_loss</th>\n",
       "      <th>time</th>\n",
       "    </tr>\n",
       "  </thead>\n",
       "  <tbody>\n",
       "    <tr>\n",
       "      <td>0</td>\n",
       "      <td>0.220723</td>\n",
       "      <td>0.196333</td>\n",
       "      <td>00:01</td>\n",
       "    </tr>\n",
       "    <tr>\n",
       "      <td>1</td>\n",
       "      <td>0.095646</td>\n",
       "      <td>0.133659</td>\n",
       "      <td>00:01</td>\n",
       "    </tr>\n",
       "    <tr>\n",
       "      <td>2</td>\n",
       "      <td>0.051522</td>\n",
       "      <td>0.129558</td>\n",
       "      <td>00:01</td>\n",
       "    </tr>\n",
       "    <tr>\n",
       "      <td>3</td>\n",
       "      <td>0.028184</td>\n",
       "      <td>0.126793</td>\n",
       "      <td>00:01</td>\n",
       "    </tr>\n",
       "    <tr>\n",
       "      <td>4</td>\n",
       "      <td>0.016396</td>\n",
       "      <td>0.128135</td>\n",
       "      <td>00:01</td>\n",
       "    </tr>\n",
       "  </tbody>\n",
       "</table>"
      ],
      "text/plain": [
       "<IPython.core.display.HTML object>"
      ]
     },
     "metadata": {},
     "output_type": "display_data"
    },
    {
     "data": {
      "text/html": [
       "\n",
       "<style>\n",
       "    /* Turns off some styling */\n",
       "    progress {\n",
       "        /* gets rid of default border in Firefox and Opera. */\n",
       "        border: none;\n",
       "        /* Needs to be in here for Safari polyfill so background images work as expected. */\n",
       "        background-size: auto;\n",
       "    }\n",
       "    progress:not([value]), progress:not([value])::-webkit-progress-bar {\n",
       "        background: repeating-linear-gradient(45deg, #7e7e7e, #7e7e7e 10px, #5c5c5c 10px, #5c5c5c 20px);\n",
       "    }\n",
       "    .progress-bar-interrupted, .progress-bar-interrupted::-webkit-progress-bar {\n",
       "        background: #F44336;\n",
       "    }\n",
       "</style>\n"
      ],
      "text/plain": [
       "<IPython.core.display.HTML object>"
      ]
     },
     "metadata": {},
     "output_type": "display_data"
    },
    {
     "data": {
      "text/html": [],
      "text/plain": [
       "<IPython.core.display.HTML object>"
      ]
     },
     "metadata": {},
     "output_type": "display_data"
    },
    {
     "data": {
      "text/html": [
       "\n",
       "<style>\n",
       "    /* Turns off some styling */\n",
       "    progress {\n",
       "        /* gets rid of default border in Firefox and Opera. */\n",
       "        border: none;\n",
       "        /* Needs to be in here for Safari polyfill so background images work as expected. */\n",
       "        background-size: auto;\n",
       "    }\n",
       "    progress:not([value]), progress:not([value])::-webkit-progress-bar {\n",
       "        background: repeating-linear-gradient(45deg, #7e7e7e, #7e7e7e 10px, #5c5c5c 10px, #5c5c5c 20px);\n",
       "    }\n",
       "    .progress-bar-interrupted, .progress-bar-interrupted::-webkit-progress-bar {\n",
       "        background: #F44336;\n",
       "    }\n",
       "</style>\n"
      ],
      "text/plain": [
       "<IPython.core.display.HTML object>"
      ]
     },
     "metadata": {},
     "output_type": "display_data"
    },
    {
     "data": {
      "text/html": [
       "<table border=\"1\" class=\"dataframe\">\n",
       "  <thead>\n",
       "    <tr style=\"text-align: left;\">\n",
       "      <th>epoch</th>\n",
       "      <th>train_loss</th>\n",
       "      <th>valid_loss</th>\n",
       "      <th>time</th>\n",
       "    </tr>\n",
       "  </thead>\n",
       "  <tbody>\n",
       "    <tr>\n",
       "      <td>0</td>\n",
       "      <td>0.223586</td>\n",
       "      <td>0.195411</td>\n",
       "      <td>00:01</td>\n",
       "    </tr>\n",
       "    <tr>\n",
       "      <td>1</td>\n",
       "      <td>0.096942</td>\n",
       "      <td>0.133100</td>\n",
       "      <td>00:01</td>\n",
       "    </tr>\n",
       "    <tr>\n",
       "      <td>2</td>\n",
       "      <td>0.051057</td>\n",
       "      <td>0.113242</td>\n",
       "      <td>00:01</td>\n",
       "    </tr>\n",
       "    <tr>\n",
       "      <td>3</td>\n",
       "      <td>0.029381</td>\n",
       "      <td>0.114903</td>\n",
       "      <td>00:01</td>\n",
       "    </tr>\n",
       "    <tr>\n",
       "      <td>4</td>\n",
       "      <td>0.019267</td>\n",
       "      <td>0.111545</td>\n",
       "      <td>00:01</td>\n",
       "    </tr>\n",
       "  </tbody>\n",
       "</table>"
      ],
      "text/plain": [
       "<IPython.core.display.HTML object>"
      ]
     },
     "metadata": {},
     "output_type": "display_data"
    },
    {
     "data": {
      "text/html": [
       "\n",
       "<style>\n",
       "    /* Turns off some styling */\n",
       "    progress {\n",
       "        /* gets rid of default border in Firefox and Opera. */\n",
       "        border: none;\n",
       "        /* Needs to be in here for Safari polyfill so background images work as expected. */\n",
       "        background-size: auto;\n",
       "    }\n",
       "    progress:not([value]), progress:not([value])::-webkit-progress-bar {\n",
       "        background: repeating-linear-gradient(45deg, #7e7e7e, #7e7e7e 10px, #5c5c5c 10px, #5c5c5c 20px);\n",
       "    }\n",
       "    .progress-bar-interrupted, .progress-bar-interrupted::-webkit-progress-bar {\n",
       "        background: #F44336;\n",
       "    }\n",
       "</style>\n"
      ],
      "text/plain": [
       "<IPython.core.display.HTML object>"
      ]
     },
     "metadata": {},
     "output_type": "display_data"
    },
    {
     "data": {
      "text/html": [],
      "text/plain": [
       "<IPython.core.display.HTML object>"
      ]
     },
     "metadata": {},
     "output_type": "display_data"
    },
    {
     "data": {
      "text/html": [
       "\n",
       "<style>\n",
       "    /* Turns off some styling */\n",
       "    progress {\n",
       "        /* gets rid of default border in Firefox and Opera. */\n",
       "        border: none;\n",
       "        /* Needs to be in here for Safari polyfill so background images work as expected. */\n",
       "        background-size: auto;\n",
       "    }\n",
       "    progress:not([value]), progress:not([value])::-webkit-progress-bar {\n",
       "        background: repeating-linear-gradient(45deg, #7e7e7e, #7e7e7e 10px, #5c5c5c 10px, #5c5c5c 20px);\n",
       "    }\n",
       "    .progress-bar-interrupted, .progress-bar-interrupted::-webkit-progress-bar {\n",
       "        background: #F44336;\n",
       "    }\n",
       "</style>\n"
      ],
      "text/plain": [
       "<IPython.core.display.HTML object>"
      ]
     },
     "metadata": {},
     "output_type": "display_data"
    },
    {
     "data": {
      "text/html": [
       "<table border=\"1\" class=\"dataframe\">\n",
       "  <thead>\n",
       "    <tr style=\"text-align: left;\">\n",
       "      <th>epoch</th>\n",
       "      <th>train_loss</th>\n",
       "      <th>valid_loss</th>\n",
       "      <th>time</th>\n",
       "    </tr>\n",
       "  </thead>\n",
       "  <tbody>\n",
       "    <tr>\n",
       "      <td>0</td>\n",
       "      <td>0.220741</td>\n",
       "      <td>0.198629</td>\n",
       "      <td>00:01</td>\n",
       "    </tr>\n",
       "    <tr>\n",
       "      <td>1</td>\n",
       "      <td>0.102513</td>\n",
       "      <td>0.151262</td>\n",
       "      <td>00:01</td>\n",
       "    </tr>\n",
       "    <tr>\n",
       "      <td>2</td>\n",
       "      <td>0.049985</td>\n",
       "      <td>0.129097</td>\n",
       "      <td>00:01</td>\n",
       "    </tr>\n",
       "    <tr>\n",
       "      <td>3</td>\n",
       "      <td>0.027234</td>\n",
       "      <td>0.126378</td>\n",
       "      <td>00:01</td>\n",
       "    </tr>\n",
       "    <tr>\n",
       "      <td>4</td>\n",
       "      <td>0.016205</td>\n",
       "      <td>0.127589</td>\n",
       "      <td>00:01</td>\n",
       "    </tr>\n",
       "  </tbody>\n",
       "</table>"
      ],
      "text/plain": [
       "<IPython.core.display.HTML object>"
      ]
     },
     "metadata": {},
     "output_type": "display_data"
    },
    {
     "data": {
      "text/html": [
       "\n",
       "<style>\n",
       "    /* Turns off some styling */\n",
       "    progress {\n",
       "        /* gets rid of default border in Firefox and Opera. */\n",
       "        border: none;\n",
       "        /* Needs to be in here for Safari polyfill so background images work as expected. */\n",
       "        background-size: auto;\n",
       "    }\n",
       "    progress:not([value]), progress:not([value])::-webkit-progress-bar {\n",
       "        background: repeating-linear-gradient(45deg, #7e7e7e, #7e7e7e 10px, #5c5c5c 10px, #5c5c5c 20px);\n",
       "    }\n",
       "    .progress-bar-interrupted, .progress-bar-interrupted::-webkit-progress-bar {\n",
       "        background: #F44336;\n",
       "    }\n",
       "</style>\n"
      ],
      "text/plain": [
       "<IPython.core.display.HTML object>"
      ]
     },
     "metadata": {},
     "output_type": "display_data"
    },
    {
     "data": {
      "text/html": [],
      "text/plain": [
       "<IPython.core.display.HTML object>"
      ]
     },
     "metadata": {},
     "output_type": "display_data"
    },
    {
     "name": "stdout",
     "output_type": "stream",
     "text": [
      "Average MAE: 0.199, Average RMSE: 0.346\n"
     ]
    }
   ],
   "source": [
    "# pip install fastai\n",
    "\n",
    "from sklearn.model_selection import KFold\n",
    "from fastai.collab import CollabDataLoaders, collab_learner\n",
    "from sklearn.metrics import mean_squared_error, mean_absolute_error\n",
    "\n",
    "data = review_data[['Nickname', 'Book_Name', 'Label']]\n",
    "\n",
    "kf = KFold(n_splits=5) \n",
    "maes, rmses = [], []\n",
    "\n",
    "for train_idx, test_idx in kf.split(data):\n",
    "    train_data, test_data = data.iloc[train_idx], data.iloc[test_idx]\n",
    "\n",
    "    dls = CollabDataLoaders.from_df(train_data, user_name='Nickname', item_name='Book_Name', rating_name='Label', bs=64)\n",
    "\n",
    "    learn = collab_learner(dls, n_factors=100, y_range=(0, 1), wd=0.1, use_nn=True, layers=[100])\n",
    "    learn.fit_one_cycle(5, 1e-3)\n",
    "\n",
    "    test_dl = dls.test_dl(test_data)\n",
    "    predictions, _ = learn.get_preds(dl=test_dl)\n",
    "\n",
    "    mae = mean_absolute_error(test_data['Label'], predictions)\n",
    "    rmse = np.sqrt(mean_squared_error(test_data['Label'], predictions))\n",
    "\n",
    "    maes.append(mae)\n",
    "    rmses.append(rmse)\n",
    "\n",
    "avg_mae = np.mean(maes)\n",
    "avg_rmse = np.mean(rmses)\n",
    "\n",
    "print(f\"Average MAE: {avg_mae:.3f}, Average RMSE: {avg_rmse:.3f}\")\n"
   ]
  },
  {
   "cell_type": "code",
   "execution_count": null,
   "metadata": {},
   "outputs": [],
   "source": []
  }
 ],
 "metadata": {
  "kernelspec": {
   "display_name": "Python 3",
   "language": "python",
   "name": "python3"
  },
  "language_info": {
   "codemirror_mode": {
    "name": "ipython",
    "version": 3
   },
   "file_extension": ".py",
   "mimetype": "text/x-python",
   "name": "python",
   "nbconvert_exporter": "python",
   "pygments_lexer": "ipython3",
   "version": "3.9.6"
  }
 },
 "nbformat": 4,
 "nbformat_minor": 2
}
